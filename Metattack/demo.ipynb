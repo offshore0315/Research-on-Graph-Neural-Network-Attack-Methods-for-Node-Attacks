{
 "cells": [
  {
   "cell_type": "code",
   "execution_count": 1,
   "metadata": {},
   "outputs": [],
   "source": [
    "from metattack import utils\n",
    "from metattack import meta_gradient_attack as mtk\n",
    "import numpy as np\n",
    "import tensorflow as tf\n",
    "import seaborn as sns\n",
    "from matplotlib import pyplot as plt\n",
    "import scipy.sparse as sp\n",
    "try:\n",
    "    from tqdm import tqdm\n",
    "except ImportError:\n",
    "    tqdm = lambda x: x\n",
    "\n",
    "gpu_id = 0"
   ]
  },
  {
   "cell_type": "code",
   "execution_count": 2,
   "metadata": {},
   "outputs": [
    {
     "name": "stdout",
     "output_type": "stream",
     "text": [
      "Selecting 1 largest connected components\n"
     ]
    },
    {
     "name": "stderr",
     "output_type": "stream",
     "text": [
      "/Users/danielzuegner/miniconda3/envs/tf/lib/python3.6/site-packages/scipy/sparse/compressed.py:708: SparseEfficiencyWarning: Changing the sparsity structure of a csr_matrix is expensive. lil_matrix is more efficient.\n",
      "  self[i, j] = values\n"
     ]
    }
   ],
   "source": [
    "_A_obs, _X_obs, _z_obs = utils.load_npz('data/citeseer.npz')\n",
    "if _X_obs is None:\n",
    "    _X_obs = sp.eye(_A_obs.shape[0]).tocsr()\n",
    "    \n",
    "_A_obs = _A_obs + _A_obs.T\n",
    "_A_obs[_A_obs > 1] = 1\n",
    "lcc = utils.largest_connected_components(_A_obs)\n",
    "\n",
    "_A_obs = _A_obs[lcc][:,lcc]\n",
    "_A_obs.setdiag(0)\n",
    "_A_obs = _A_obs.astype(\"float32\")\n",
    "_A_obs.eliminate_zeros()\n",
    "_X_obs = _X_obs.astype(\"float32\")\n",
    "\n",
    "assert np.abs(_A_obs - _A_obs.T).sum() == 0, \"Input graph is not symmetric\"\n",
    "assert _A_obs.max() == 1 and len(np.unique(_A_obs[_A_obs.nonzero()].A1)) == 1, \"Graph must be unweighted\"\n",
    "assert _A_obs.sum(0).A1.min() > 0, \"Graph contains singleton nodes\"\n",
    "\n",
    "_X_obs = _X_obs[lcc]\n",
    "_z_obs = _z_obs[lcc]\n",
    "_N = _A_obs.shape[0]\n",
    "_K = _z_obs.max()+1\n",
    "_Z_obs = np.eye(_K)[_z_obs]\n",
    "_An = utils.preprocess_graph(_A_obs)\n",
    "sizes = [16, _K]\n",
    "degrees = _A_obs.sum(0).A1\n",
    "\n",
    "seed = 15\n",
    "unlabeled_share = 0.8\n",
    "val_share = 0.1\n",
    "train_share = 1 - unlabeled_share - val_share\n",
    "np.random.seed(seed)\n",
    "\n",
    "split_train, split_val, split_unlabeled = utils.train_val_test_split_tabular(np.arange(_N),\n",
    "                                                                       train_size=train_share,\n",
    "                                                                       val_size=val_share,\n",
    "                                                                       test_size=unlabeled_share,\n",
    "                                                                       stratify=_z_obs)\n",
    "split_unlabeled = np.union1d(split_val, split_unlabeled)"
   ]
  },
  {
   "cell_type": "code",
   "execution_count": 3,
   "metadata": {},
   "outputs": [],
   "source": [
    "hidden_sizes = [16]\n",
    "share_perturbations = 0.05\n",
    "perturbations = int(share_perturbations * (_A_obs.sum()//2))\n",
    "train_iters = 100\n",
    "dtype = tf.float32 # change this to tf.float16 if you run out of GPU memory. Might affect the performance and lead to numerical instability"
   ]
  },
  {
   "cell_type": "code",
   "execution_count": 4,
   "metadata": {},
   "outputs": [
    {
     "name": "stderr",
     "output_type": "stream",
     "text": [
      "Training: 100%|██████████| 200/200 [00:00<00:00, 270.63it/s]\n"
     ]
    }
   ],
   "source": [
    "surrogate = mtk.GCNSparse(_A_obs, _X_obs, _Z_obs, hidden_sizes, gpu_id=gpu_id)\n",
    "surrogate.build(with_relu=False)\n",
    "surrogate.train(split_train)"
   ]
  },
  {
   "cell_type": "code",
   "execution_count": 5,
   "metadata": {},
   "outputs": [],
   "source": [
    "# Predict the labels of the unlabeled nodes to use them for self-training.\n",
    "labels_self_training = np.eye(_K)[surrogate.logits.eval(session=surrogate.session).argmax(1)]\n",
    "labels_self_training[split_train] = _Z_obs[split_train]"
   ]
  },
  {
   "cell_type": "code",
   "execution_count": 6,
   "metadata": {},
   "outputs": [],
   "source": [
    "# The attack variants from the paper\n",
    "variants = [\"Meta-Train\", \"Meta-Self\",\"A-Meta-Train\", \"A-Meta-Self\", \"A-Meta-Both\"]\n",
    "# Choose the variant you would like to try\n",
    "variant = \"Meta-Self\"\n",
    "assert variant in variants\n",
    "\n",
    "enforce_ll_constrant = False\n",
    "approximate_meta_gradient = False\n",
    "if variant.startswith(\"A-\"): # approximate meta gradient\n",
    "    approximate_meta_gradient = True\n",
    "    if \"Train\" in variant:\n",
    "        lambda_ = 1\n",
    "    elif \"Self\" in variant:\n",
    "        lambda_ = 0\n",
    "    else:\n",
    "        lambda_ = 0.5\n",
    "        \n",
    "if \"Train\" in variant:\n",
    "    idx_attack = split_train\n",
    "elif \"Self\" in variant:\n",
    "    idx_attack = split_unlabeled\n",
    "else:  # Both\n",
    "    idx_attack = np.union1d(split_train, split_unlabeled)"
   ]
  },
  {
   "cell_type": "code",
   "execution_count": 7,
   "metadata": {},
   "outputs": [],
   "source": [
    "if approximate_meta_gradient:\n",
    "    gcn_attack = mtk.GNNMetaApprox(_A_obs, _X_obs, labels_self_training, hidden_sizes, \n",
    "                                   gpu_id=gpu_id, _lambda=lambda_, train_iters=train_iters, dtype=dtype)\n",
    "else:\n",
    "    gcn_attack = mtk.GNNMeta(_A_obs, _X_obs.toarray().astype(\"float32\"), labels_self_training, hidden_sizes, \n",
    "                             gpu_id=gpu_id, attack_features=False, train_iters=train_iters, dtype=dtype)"
   ]
  },
  {
   "cell_type": "code",
   "execution_count": 8,
   "metadata": {},
   "outputs": [
    {
     "name": "stderr",
     "output_type": "stream",
     "text": [
      "Unrolling training procedure: 100%|██████████| 100/100 [00:14<00:00,  7.20it/s]\n"
     ]
    }
   ],
   "source": [
    "gcn_attack.build()\n",
    "gcn_attack.make_loss(ll_constraint=enforce_ll_constrant)"
   ]
  },
  {
   "cell_type": "code",
   "execution_count": 9,
   "metadata": {},
   "outputs": [
    {
     "name": "stderr",
     "output_type": "stream",
     "text": [
      "Perturbing graph: 100%|██████████| 183/183 [02:49<00:00,  1.20it/s]\n"
     ]
    }
   ],
   "source": [
    "if approximate_meta_gradient:\n",
    "    gcn_attack.attack(perturbations, split_train, split_unlabeled, idx_attack)\n",
    "else:\n",
    "    gcn_attack.attack(perturbations, split_train, idx_attack)"
   ]
  },
  {
   "cell_type": "code",
   "execution_count": 10,
   "metadata": {},
   "outputs": [],
   "source": [
    "adjacency_changes = gcn_attack.adjacency_changes.eval(session=gcn_attack.session).reshape(_A_obs.shape)\n",
    "modified_adjacency = gcn_attack.modified_adjacency.eval(session=gcn_attack.session)"
   ]
  },
  {
   "cell_type": "code",
   "execution_count": 11,
   "metadata": {},
   "outputs": [],
   "source": [
    "re_trainings = 20"
   ]
  },
  {
   "cell_type": "code",
   "execution_count": 12,
   "metadata": {},
   "outputs": [],
   "source": [
    "gcn_before_attack = mtk.GCNSparse(sp.csr_matrix(_A_obs), _X_obs, _Z_obs, hidden_sizes, gpu_id=gpu_id)\n",
    "gcn_before_attack.build(with_relu=True)"
   ]
  },
  {
   "cell_type": "code",
   "execution_count": 13,
   "metadata": {},
   "outputs": [
    {
     "name": "stderr",
     "output_type": "stream",
     "text": [
      "100%|██████████| 20/20 [00:07<00:00,  2.84it/s]\n"
     ]
    }
   ],
   "source": [
    "accuracies_clean = []\n",
    "for _it in tqdm(range(re_trainings)):\n",
    "    gcn_before_attack.train(split_train, initialize=True, display=False)\n",
    "    accuracy_clean = (gcn_before_attack.logits.eval(session=gcn_before_attack.session).argmax(1) == _z_obs)[split_unlabeled].mean()\n",
    "    accuracies_clean.append(accuracy_clean)"
   ]
  },
  {
   "cell_type": "code",
   "execution_count": 14,
   "metadata": {},
   "outputs": [],
   "source": [
    "gcn_after_attack = mtk.GCNSparse(sp.csr_matrix(modified_adjacency), _X_obs, _Z_obs, hidden_sizes, gpu_id=gpu_id)\n",
    "gcn_after_attack.build(with_relu=True)"
   ]
  },
  {
   "cell_type": "code",
   "execution_count": 15,
   "metadata": {},
   "outputs": [
    {
     "name": "stderr",
     "output_type": "stream",
     "text": [
      "100%|██████████| 20/20 [00:08<00:00,  2.44it/s]\n"
     ]
    }
   ],
   "source": [
    "accuracies_atk = []\n",
    "for _it in tqdm(range(re_trainings)):\n",
    "    gcn_after_attack.train(split_train, initialize=True, display=False)\n",
    "    accuracy_atk = (gcn_after_attack.logits.eval(session=gcn_after_attack.session).argmax(1) == _z_obs)[split_unlabeled].mean()\n",
    "    accuracies_atk.append(accuracy_atk)"
   ]
  },
  {
   "cell_type": "code",
   "execution_count": 35,
   "metadata": {},
   "outputs": [
    {
     "data": {
      "image/png": "[encoded data removed]",
      "text/plain": [
       "<Figure size 432x432 with 1 Axes>"
      ]
     },
     "metadata": {
      "needs_background": "light"
     },
     "output_type": "display_data"
    }
   ],
   "source": [
    "plt.figure(figsize=(6,6))\n",
    "sns.boxplot(x=[\"Acc. Clean\", \"Acc. Perturbed\"], y=[accuracies_clean, accuracies_atk])#, re_trainings*[accuracy_logistic]])\n",
    "plt.title(f\"Accuracy before and after perturbing {int(share_perturbations*100)}% edges using {variant}\")\n",
    "plt.savefig(\"example.png\", dpi=600)\n",
    "plt.savefig(\"example.svg\")\n",
    "plt.show()"
   ]
  }
 ],
 "metadata": {
  "kernelspec": {
   "display_name": "Python 3",
   "language": "python",
   "name": "python3"
  },
  "language_info": {
   "codemirror_mode": {
    "name": "ipython",
    "version": 3
   },
   "file_extension": ".py",
   "mimetype": "text/x-python",
   "name": "python",
   "nbconvert_exporter": "python",
   "pygments_lexer": "ipython3",
   "version": "3.6.8"
  }
 },
 "nbformat": 4,
 "nbformat_minor": 2
}
